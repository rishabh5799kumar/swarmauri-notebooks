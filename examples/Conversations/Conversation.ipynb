{
  "cells": [
    {
      "cell_type": "markdown",
      "id": "47738f5f-4eae-48ea-8470-f4e48e7f4a62",
      "metadata": {
        "id": "47738f5f-4eae-48ea-8470-f4e48e7f4a62"
      },
      "source": [
        "# Import Dependencies"
      ]
    },
    {
      "cell_type": "markdown",
      "source": [],
      "metadata": {
        "id": "3qrji9KFJOCX"
      },
      "id": "3qrji9KFJOCX"
    },
    {
      "cell_type": "code",
      "execution_count": 1,
      "id": "86494942-48d7-4236-9829-0ea336260358",
      "metadata": {
        "id": "86494942-48d7-4236-9829-0ea336260358"
      },
      "outputs": [],
      "source": [
        "from swarmauri.standard.conversations.concrete.Conversation import Conversation"
      ]
    },
    {
      "cell_type": "markdown",
      "id": "9100636b-fcc2-4448-ab27-28be77341298",
      "metadata": {
        "id": "9100636b-fcc2-4448-ab27-28be77341298"
      },
      "source": [
        "# Instantiate Conversation"
      ]
    },
    {
      "cell_type": "code",
      "execution_count": 2,
      "id": "18f09283-88c0-44ec-bb94-3bf737827139",
      "metadata": {
        "id": "18f09283-88c0-44ec-bb94-3bf737827139"
      },
      "outputs": [],
      "source": [
        "conversation = Conversation()"
      ]
    },
    {
      "cell_type": "markdown",
      "id": "a7b9c22b-7839-45de-a0d2-93a5cd744b15",
      "metadata": {
        "id": "a7b9c22b-7839-45de-a0d2-93a5cd744b15"
      },
      "source": [
        "# Type and Resource of Conversation"
      ]
    },
    {
      "cell_type": "code",
      "execution_count": 3,
      "id": "7d7b3bab-708b-4ed5-bc0a-877c18fd044a",
      "metadata": {
        "colab": {
          "base_uri": "https://localhost:8080/",
          "height": 36
        },
        "id": "7d7b3bab-708b-4ed5-bc0a-877c18fd044a",
        "outputId": "79b5ffec-6658-42e0-a2d0-d94a8ff61038"
      },
      "outputs": [
        {
          "output_type": "execute_result",
          "data": {
            "text/plain": [
              "'Conversation'"
            ],
            "application/vnd.google.colaboratory.intrinsic+json": {
              "type": "string"
            }
          },
          "metadata": {},
          "execution_count": 3
        }
      ],
      "source": [
        "conversation.type"
      ]
    },
    {
      "cell_type": "code",
      "execution_count": 4,
      "id": "3fbd3b31-d0f9-4465-bc81-c02020572245",
      "metadata": {
        "colab": {
          "base_uri": "https://localhost:8080/",
          "height": 36
        },
        "id": "3fbd3b31-d0f9-4465-bc81-c02020572245",
        "outputId": "9c63d0f4-986c-458e-e071-4dd8d60e20b2"
      },
      "outputs": [
        {
          "output_type": "execute_result",
          "data": {
            "text/plain": [
              "'Conversation'"
            ],
            "application/vnd.google.colaboratory.intrinsic+json": {
              "type": "string"
            }
          },
          "metadata": {},
          "execution_count": 4
        }
      ],
      "source": [
        "conversation.resource"
      ]
    },
    {
      "cell_type": "markdown",
      "id": "f2d0a80e-969e-4b12-8524-1149340341b3",
      "metadata": {
        "id": "f2d0a80e-969e-4b12-8524-1149340341b3"
      },
      "source": [
        "# Serialization"
      ]
    },
    {
      "cell_type": "code",
      "execution_count": 5,
      "id": "220b697c-3044-4059-872d-cf6379021651",
      "metadata": {
        "colab": {
          "base_uri": "https://localhost:8080/"
        },
        "id": "220b697c-3044-4059-872d-cf6379021651",
        "outputId": "ccb29a30-8e58-4d24-d731-5461f6c9a4ef"
      },
      "outputs": [
        {
          "output_type": "stream",
          "name": "stderr",
          "text": [
            "/usr/local/lib/python3.10/dist-packages/pydantic/main.py:415: UserWarning: Pydantic serializer warnings:\n",
            "  Expected `enum` but got `str` - serialized value may not be as expected\n",
            "  return self.__pydantic_serializer__.to_json(\n"
          ]
        },
        {
          "output_type": "execute_result",
          "data": {
            "text/plain": [
              "True"
            ]
          },
          "metadata": {},
          "execution_count": 5
        }
      ],
      "source": [
        "conversation.id == Conversation.model_validate_json(conversation.model_dump_json()).id"
      ]
    }
  ],
  "metadata": {
    "kernelspec": {
      "display_name": "Python 3 (ipykernel)",
      "language": "python",
      "name": "python3"
    },
    "language_info": {
      "codemirror_mode": {
        "name": "ipython",
        "version": 3
      },
      "file_extension": ".py",
      "mimetype": "text/x-python",
      "name": "python",
      "nbconvert_exporter": "python",
      "pygments_lexer": "ipython3",
      "version": "3.10.11"
    },
    "colab": {
      "provenance": []
    }
  },
  "nbformat": 4,
  "nbformat_minor": 5
}